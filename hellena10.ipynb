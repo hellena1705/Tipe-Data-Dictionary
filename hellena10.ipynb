{
 "cells": [
  {
   "cell_type": "code",
   "execution_count": 1,
   "id": "f4f0188b-e7e1-4f4d-941e-749c8836d166",
   "metadata": {},
   "outputs": [
    {
     "name": "stdout",
     "output_type": "stream",
     "text": [
      "key value item\n",
      "1   10   1\n",
      "2   20   2\n",
      "3   30   3\n",
      "4   40   4\n",
      "5   50   5\n",
      "6   60   6\n"
     ]
    }
   ],
   "source": [
    "d={1:10,2:20,3:30,4:40,5:50,6:60}\n",
    "print('key value item')\n",
    "for i in d:\n",
    "    print(i, ' ',d[i],' ',i)"
   ]
  },
  {
   "cell_type": "code",
   "execution_count": 2,
   "id": "043b931c-aea2-4b8e-a978-dd609888a1cf",
   "metadata": {},
   "outputs": [
    {
     "name": "stdout",
     "output_type": "stream",
     "text": [
      "{'red': '#FF0000', 'green': '#008000', 'blue': '#0000FF'}\n"
     ]
    }
   ],
   "source": [
    "lista = ['red', 'green', 'blue']\n",
    "listb = ['#FF0000','#008000', '#0000FF']\n",
    "list = {lista[i]: listb[i] for i in range (len(lista))}\n",
    "print(list)"
   ]
  },
  {
   "cell_type": "code",
   "execution_count": 3,
   "id": "37506a8d-b02d-4e5d-acb7-b8b7fa963352",
   "metadata": {},
   "outputs": [
    {
     "name": "stdin",
     "output_type": "stream",
     "text": [
      "Masukkan nama file:  mbox-short.txt\n"
     ]
    },
    {
     "name": "stdout",
     "output_type": "stream",
     "text": [
      "{'stephen.marquard@uct.ac.za': 0, 'louis@media.berkeley.edu': 0, 'zqian@umich.edu': 0, 'rjlowe@iupui.edu': 0, 'cwen@iupui.edu': 0, 'gsilver@umich.edu': 0, 'wagnermr@iupui.edu': 0, 'antranig@caret.cam.ac.uk': 0, 'gopal.ramasammycook@gmail.com': 0, 'david.horwitz@uct.ac.za': 0, 'ray@media.berkeley.edu': 0}\n"
     ]
    }
   ],
   "source": [
    "dicti = dict()\n",
    "filename = input('Masukkan nama file: ')\n",
    "\n",
    "try:\n",
    "    handle = open(filename)\n",
    "except:\n",
    "    print('Cek nama file anda: ', filename)\n",
    "    exit()\n",
    "\n",
    "for line in handle:\n",
    "    email = line.split()\n",
    "    if len(email)<2 or email[0] != 'From':\n",
    "        continue\n",
    "    else:\n",
    "        dicti[email[1]] =+dicti.get(email[1],0)\n",
    "\n",
    "print(dicti)"
   ]
  },
  {
   "cell_type": "code",
   "execution_count": 6,
   "id": "ad6dcbce-4362-4236-8c55-0dacc653b476",
   "metadata": {},
   "outputs": [
    {
     "name": "stdin",
     "output_type": "stream",
     "text": [
      "Masukkan nama file:  mbox-short.txt\n"
     ]
    },
    {
     "name": "stdout",
     "output_type": "stream",
     "text": [
      "{'uct.ac.za': 6, 'media.berkeley.edu': 4, 'umich.edu': 7, 'iupui.edu': 8, 'caret.cam.ac.uk': 1, 'gmail.com': 1}\n"
     ]
    }
   ],
   "source": [
    "def extract_domain(email):\n",
    "    \"\"\"Fungsi untuk mengekstrak domain dari alamat email.\"\"\"\n",
    "    return email.split('@')[-1]\n",
    "\n",
    "def count_domain_emails(file_name):\n",
    "    \"\"\"Fungsi untuk menghitung jumlah pesan yang dikirim masing-masing domain.\"\"\"\n",
    "    domain_counts = {}\n",
    "    with open(file_name, 'r') as file:\n",
    "        for line in file:\n",
    "            if line.startswith('From '):\n",
    "                email = line.split()[1]\n",
    "                domain = extract_domain(email)\n",
    "                domain_counts[domain] = domain_counts.get(domain, 0) + 1\n",
    "    return domain_counts\n",
    "\n",
    "def main():\n",
    "    file_name = input(\"Masukkan nama file: \")\n",
    "    domain_counts = count_domain_emails(file_name)\n",
    "    print(domain_counts)\n",
    "\n",
    "if __name__ == \"__main__\":\n",
    "    main()\n"
   ]
  },
  {
   "cell_type": "code",
   "execution_count": null,
   "id": "e297f459-a636-44ec-a9a8-fa8a90682677",
   "metadata": {},
   "outputs": [],
   "source": []
  }
 ],
 "metadata": {
  "kernelspec": {
   "display_name": "Python 3 (ipykernel)",
   "language": "python",
   "name": "python3"
  },
  "language_info": {
   "codemirror_mode": {
    "name": "ipython",
    "version": 3
   },
   "file_extension": ".py",
   "mimetype": "text/x-python",
   "name": "python",
   "nbconvert_exporter": "python",
   "pygments_lexer": "ipython3",
   "version": "3.11.7"
  }
 },
 "nbformat": 4,
 "nbformat_minor": 5
}
